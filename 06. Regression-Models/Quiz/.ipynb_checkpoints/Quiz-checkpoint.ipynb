{
 "cells": [
  {
   "cell_type": "code",
   "execution_count": 1,
   "metadata": {
    "collapsed": true
   },
   "outputs": [],
   "source": [
    "from sklearn.datasets import load_boston\n",
    "from sklearn.linear_model import LinearRegression\n",
    "from sklearn.metrics import r2_score"
   ]
  },
  {
   "cell_type": "markdown",
   "metadata": {},
   "source": [
    "# Types of Problems\n",
    "In a CPU factory, a camera takes a picture of every single manufactured chip. After that, it sends the picture to an algorithm. The algorithm outputs whether the CPU is defective or not.\n",
    "\n",
    "What type of algorithm is that?"
   ]
  },
  {
   "cell_type": "markdown",
   "metadata": {},
   "source": [
    "The answer is \"two-class-classification\" because we have only 2 classes as outputs."
   ]
  },
  {
   "cell_type": "markdown",
   "metadata": {},
   "source": [
    "# Linear Regression Functions\n",
    "When building the linear regression model, we came across several new functions. One of these functions was\n",
    "$$ J = \\frac{1}{n}\\sum_{i} (y_i - \\tilde{y_i})^2 $$\n",
    "What is the name of this function?"
   ]
  },
  {
   "cell_type": "markdown",
   "metadata": {},
   "source": [
    "The correct answer here is \"cost function\". Here we sum all the error distances."
   ]
  },
  {
   "cell_type": "markdown",
   "metadata": {},
   "source": [
    "# Income, Part 1\n",
    "We have collected data from an ice cream shop. We modelled the income as a function of the outside temperature:\n",
    "\n",
    "$$ \\text{income}[\\$] = 20.67449411 \\text{T}[^\\circ C] - 30.12047857 $$\n",
    "As we can see, one of the terms is positive, and the other is negative.\n",
    "\n",
    "Which of the following is true, based on this research only?"
   ]
  },
  {
   "cell_type": "markdown",
   "metadata": {},
   "source": [
    "# Income, Part 2\n",
    "In some cases we need to augment (extend) the model to return valid results.\n",
    "\n",
    "What income (in dollars) will our current model predict when the temperature is 1.2 degrees? Round your answer to 2 decimal places."
   ]
  },
  {
   "cell_type": "code",
   "execution_count": 2,
   "metadata": {},
   "outputs": [
    {
     "name": "stdout",
     "output_type": "stream",
     "text": [
      "-5.31\n"
     ]
    }
   ],
   "source": [
    "temp = 1.2\n",
    "income = (20.67449411 * temp) - 30.12047857\n",
    "print(\"{:.2f}\".format(income))"
   ]
  },
  {
   "cell_type": "markdown",
   "metadata": {},
   "source": [
    "The specification tells that \"income\" is defined as being non-negative. The model does not account for operational costs or anything like that. We need to return a valid value based on our specification.\n",
    "\n",
    "What income (in dollars) should an augmented model predict for $T = 1.2^\\circ C$?"
   ]
  },
  {
   "cell_type": "markdown",
   "metadata": {},
   "source": [
    "If we have a negative income we can show \"zero\" as result."
   ]
  },
  {
   "cell_type": "markdown",
   "metadata": {},
   "source": [
    "# Local Minima\n",
    "When performing gradient descent on a linear regression, the choice of starting point is really important. If we choose a starting point which is far away from the global minimum of the error function, we can get stuck in a local minimum.\n",
    "\n",
    "Here we need to choose if the sentence above is true or false."
   ]
  },
  {
   "cell_type": "markdown",
   "metadata": {},
   "source": [
    "In the linear regression we have only one minimum, so we can't get stuck in a local minimum. The sentece above is false."
   ]
  },
  {
   "cell_type": "markdown",
   "metadata": {},
   "source": [
    "# Multiple Regression, Part 1\n",
    "As we already saw, we can do linear regression on many variables.\n",
    "\n",
    "The Boston housing dataset is really famous and is often used for this purpose. You can download it online or - better - load it using scikit-learn.\n",
    "\n",
    "If you wish to download and explore the data, feel free to. The scikit-learn way is\n",
    "```python\n",
    "from sklearn.datasets import load_boston\n",
    "boston_data = load_boston()\n",
    "```\n",
    "You can see what the data is about like this:\n",
    "```python\n",
    "print(boston_data.DESCR)\n",
    "```"
   ]
  },
  {
   "cell_type": "code",
   "execution_count": 3,
   "metadata": {},
   "outputs": [
    {
     "name": "stdout",
     "output_type": "stream",
     "text": [
      "Boston House Prices dataset\n",
      "===========================\n",
      "\n",
      "Notes\n",
      "------\n",
      "Data Set Characteristics:  \n",
      "\n",
      "    :Number of Instances: 506 \n",
      "\n",
      "    :Number of Attributes: 13 numeric/categorical predictive\n",
      "    \n",
      "    :Median Value (attribute 14) is usually the target\n",
      "\n",
      "    :Attribute Information (in order):\n",
      "        - CRIM     per capita crime rate by town\n",
      "        - ZN       proportion of residential land zoned for lots over 25,000 sq.ft.\n",
      "        - INDUS    proportion of non-retail business acres per town\n",
      "        - CHAS     Charles River dummy variable (= 1 if tract bounds river; 0 otherwise)\n",
      "        - NOX      nitric oxides concentration (parts per 10 million)\n",
      "        - RM       average number of rooms per dwelling\n",
      "        - AGE      proportion of owner-occupied units built prior to 1940\n",
      "        - DIS      weighted distances to five Boston employment centres\n",
      "        - RAD      index of accessibility to radial highways\n",
      "        - TAX      full-value property-tax rate per $10,000\n",
      "        - PTRATIO  pupil-teacher ratio by town\n",
      "        - B        1000(Bk - 0.63)^2 where Bk is the proportion of blacks by town\n",
      "        - LSTAT    % lower status of the population\n",
      "        - MEDV     Median value of owner-occupied homes in $1000's\n",
      "\n",
      "    :Missing Attribute Values: None\n",
      "\n",
      "    :Creator: Harrison, D. and Rubinfeld, D.L.\n",
      "\n",
      "This is a copy of UCI ML housing dataset.\n",
      "http://archive.ics.uci.edu/ml/datasets/Housing\n",
      "\n",
      "\n",
      "This dataset was taken from the StatLib library which is maintained at Carnegie Mellon University.\n",
      "\n",
      "The Boston house-price data of Harrison, D. and Rubinfeld, D.L. 'Hedonic\n",
      "prices and the demand for clean air', J. Environ. Economics & Management,\n",
      "vol.5, 81-102, 1978.   Used in Belsley, Kuh & Welsch, 'Regression diagnostics\n",
      "...', Wiley, 1980.   N.B. Various transformations are used in the table on\n",
      "pages 244-261 of the latter.\n",
      "\n",
      "The Boston house-price data has been used in many machine learning papers that address regression\n",
      "problems.   \n",
      "     \n",
      "**References**\n",
      "\n",
      "   - Belsley, Kuh & Welsch, 'Regression diagnostics: Identifying Influential Data and Sources of Collinearity', Wiley, 1980. 244-261.\n",
      "   - Quinlan,R. (1993). Combining Instance-Based and Model-Based Learning. In Proceedings on the Tenth International Conference of Machine Learning, 236-243, University of Massachusetts, Amherst. Morgan Kaufmann.\n",
      "   - many more! (see http://archive.ics.uci.edu/ml/datasets/Housing)\n",
      "\n"
     ]
    }
   ],
   "source": [
    "boston_data = load_boston()\n",
    "print(boston_data.DESCR)"
   ]
  },
  {
   "cell_type": "markdown",
   "metadata": {},
   "source": [
    "Note: This dataset is cleaned and prepared for modelling. If you want to download the original one and prepare it yourself, you're in for quite a challenge :).\n",
    "\n",
    "Perform linear regression on all features.\n",
    "\n",
    "What is the coefficient related to the number of rooms? Round your answer to two decimal places."
   ]
  },
  {
   "cell_type": "code",
   "execution_count": 4,
   "metadata": {},
   "outputs": [
    {
     "name": "stdout",
     "output_type": "stream",
     "text": [
      "3.80\n"
     ]
    }
   ],
   "source": [
    "model = LinearRegression()\n",
    "model.fit(boston_data.data, boston_data.target)\n",
    "print(\"{:.2f}\".format(model.coef_[5]))"
   ]
  },
  {
   "cell_type": "markdown",
   "metadata": {},
   "source": [
    "What is the price of a hypothetical house with all variables set to zero? Round your answer to two decimal places."
   ]
  },
  {
   "cell_type": "code",
   "execution_count": 5,
   "metadata": {},
   "outputs": [
    {
     "name": "stdout",
     "output_type": "stream",
     "text": [
      "36.49\n"
     ]
    }
   ],
   "source": [
    "print(\"{:.2f}\".format(model.intercept_))"
   ]
  },
  {
   "cell_type": "markdown",
   "metadata": {},
   "source": [
    "# Multiple Regression, Part 2\n",
    "It's good to have a model of the data but it means nothing if we have no way of testing it.\n",
    "\n",
    "A way to test regression algorithms involves the so-called coefficient of determination, $R^2$. Research how to compute it and apply it to the regression model you just created.\n",
    "\n",
    "What is the coefficient of determination for this model? Round your answer to two decimal places.\n",
    "\n",
    "<strong>Note</strong>: <span style=\"color: red\">Compute the coefficient of determination using <strong>all the data</strong></span>.\n",
    "Technically, this is not correct but at least gives a good idea of how this model performs. If you're more interested, look up \"training and testing set\"."
   ]
  },
  {
   "cell_type": "code",
   "execution_count": 6,
   "metadata": {},
   "outputs": [
    {
     "name": "stdout",
     "output_type": "stream",
     "text": [
      "0.74\n"
     ]
    }
   ],
   "source": [
    "predicted_data = model.predict(boston_data.data)\n",
    "coefficient_of_determination = r2_score(boston_data.target, predicted_data)\n",
    "print(\"{:.2f}\".format(coefficient_of_determination))"
   ]
  }
 ],
 "metadata": {
  "kernelspec": {
   "display_name": "Python 3",
   "language": "python",
   "name": "python3"
  },
  "language_info": {
   "codemirror_mode": {
    "name": "ipython",
    "version": 3
   },
   "file_extension": ".py",
   "mimetype": "text/x-python",
   "name": "python",
   "nbconvert_exporter": "python",
   "pygments_lexer": "ipython3",
   "version": "3.6.1"
  }
 },
 "nbformat": 4,
 "nbformat_minor": 2
}
