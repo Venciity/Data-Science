{
 "cells": [
  {
   "cell_type": "code",
   "execution_count": 1,
   "metadata": {},
   "outputs": [],
   "source": [
    "import matplotlib.pyplot as plt\n",
    "import numpy as np\n",
    "import skimage.io\n",
    "import skimage.morphology\n",
    "from collections import Counter\n",
    "import re\n",
    "\n",
    "import nltk\n",
    "# nltk.download(\"stopwords\") # we need this only the first time we download the \"stopwords\"\n",
    "from nltk.corpus import stopwords"
   ]
  },
  {
   "cell_type": "markdown",
   "metadata": {},
   "source": [
    "# Image Size\n",
    "Let's see what is the size (in bytes) of the hamburger image"
   ]
  },
  {
   "cell_type": "code",
   "execution_count": 2,
   "metadata": {},
   "outputs": [
    {
     "name": "stdout",
     "output_type": "stream",
     "text": [
      "783126\n",
      "783126\n"
     ]
    }
   ],
   "source": [
    "hamburger_image = skimage.io.imread(\"data/hamburger.jpg\")\n",
    "print(hamburger_image.nbytes)\n",
    "\n",
    "# Another way to calculate the size (in bytes) is to mutiply all the numbers from the shape\n",
    "# Each pixel is one byte for the JPG format so we can easily calculate the number of bytes\n",
    "# We can see more info here: https://www.scantips.com/basics1d.html\n",
    "rows, cols, dimensions = hamburger_image.shape\n",
    "print(rows * cols * dimensions)"
   ]
  },
  {
   "cell_type": "markdown",
   "metadata": {},
   "source": [
    "Let's see the for all channels the mean brigthnesses. \n",
    "\n",
    "After that we can see the dominant one."
   ]
  },
  {
   "cell_type": "code",
   "execution_count": 3,
   "metadata": {},
   "outputs": [
    {
     "name": "stdout",
     "output_type": "stream",
     "text": [
      "90.0879015637\n",
      "84.0708200213\n",
      "36.7925774396\n"
     ]
    }
   ],
   "source": [
    "hamburger_image_red, hamburger_image_green, hamburger_image_blue = [hamburger_image[:, :, i] for i in range(3)]\n",
    "print(hamburger_image_red.mean())\n",
    "print(hamburger_image_green.mean())\n",
    "print(hamburger_image_blue.mean())"
   ]
  },
  {
   "cell_type": "markdown",
   "metadata": {},
   "source": [
    "# Morphology\n",
    "Let's apply a binary opening to our image.\n",
    "\n",
    "After that we need to get the count for all the white pixels.\n",
    "We use function to calculate this count"
   ]
  },
  {
   "cell_type": "code",
   "execution_count": 4,
   "metadata": {},
   "outputs": [
    {
     "data": {
      "image/png": "[encoded data removed]",
      "text/plain": [
       "<matplotlib.figure.Figure at 0x2425ae97fd0>"
      ]
     },
     "metadata": {},
     "output_type": "display_data"
    }
   ],
   "source": [
    "# structuring_element = np.ones((3, 3)) # first variant\n",
    "structuring_element = skimage.morphology.square(3)\n",
    "binary_image = skimage.morphology.binary_opening(hamburger_image_blue, structuring_element)\n",
    "binary_image = binary_image.astype(int)\n",
    "plt.imshow(binary_image)\n",
    "plt.show()"
   ]
  },
  {
   "cell_type": "code",
   "execution_count": 5,
   "metadata": {
    "collapsed": true
   },
   "outputs": [],
   "source": [
    "def count_white_pixels(binary_image):\n",
    "    rows, columns = binary_image.shape\n",
    "    count = 0\n",
    "    for row in range(0, rows):\n",
    "        for value in binary_image[row]:\n",
    "            if value == 1:\n",
    "                count += 1;\n",
    "    return count;"
   ]
  },
  {
   "cell_type": "code",
   "execution_count": 6,
   "metadata": {},
   "outputs": [
    {
     "name": "stdout",
     "output_type": "stream",
     "text": [
      "White pixels count: 182908\n"
     ]
    }
   ],
   "source": [
    "white_pixel_count = count_white_pixels(binary_image)\n",
    "print(\"White pixels count:\", white_pixel_count)"
   ]
  },
  {
   "cell_type": "markdown",
   "metadata": {},
   "source": [
    "# Pride and Prejudice book\n",
    "\n",
    "Let's read the book \"Pride and Prejudice\""
   ]
  },
  {
   "cell_type": "code",
   "execution_count": 7,
   "metadata": {},
   "outputs": [
    {
     "name": "stdout",
     "output_type": "stream",
     "text": [
      "704192\n"
     ]
    }
   ],
   "source": [
    "text = \"\"\n",
    "with open(\"data/Pride and Prejudice.txt\", \"r\", encoding = \"utf-8\") as f:\n",
    "    text = f.read()\n",
    "print(len(text))"
   ]
  },
  {
   "cell_type": "markdown",
   "metadata": {},
   "source": [
    "Next, we make all the text lower and make a word counter.\n",
    "\n",
    "After that we can simply answer the questions\n",
    "* How many times does the word \"pride\" occur in the entire Web page?\n",
    "* How many times does the word \"prejudice\" occur in the entire Web page?"
   ]
  },
  {
   "cell_type": "code",
   "execution_count": 8,
   "metadata": {},
   "outputs": [
    {
     "name": "stdout",
     "output_type": "stream",
     "text": [
      "pride count: 53\n",
      "prejudice count: 11\n"
     ]
    }
   ],
   "source": [
    "text = text.lower()\n",
    "words = re.split(\"\\W+\", text)\n",
    "word_counter = Counter(words)\n",
    "print(\"pride count:\", word_counter[\"pride\"])\n",
    "print(\"prejudice count:\", word_counter[\"prejudice\"])"
   ]
  },
  {
   "cell_type": "markdown",
   "metadata": {},
   "source": [
    "Now it's time to remove the stopwords and to find out what's the main character's name."
   ]
  },
  {
   "cell_type": "code",
   "execution_count": 9,
   "metadata": {},
   "outputs": [
    {
     "data": {
      "text/plain": [
       "[('mr', 785),\n",
       " ('elizabeth', 635),\n",
       " ('could', 527),\n",
       " ('would', 468),\n",
       " ('darcy', 417),\n",
       " ('said', 401),\n",
       " ('mrs', 343),\n",
       " ('much', 327),\n",
       " ('bennet', 323),\n",
       " ('must', 315),\n",
       " ('bingley', 306),\n",
       " ('jane', 295),\n",
       " ('miss', 283),\n",
       " ('one', 270),\n",
       " ('know', 237),\n",
       " ('though', 226),\n",
       " ('well', 224),\n",
       " ('never', 218),\n",
       " ('sister', 218),\n",
       " ('soon', 216)]"
      ]
     },
     "execution_count": 9,
     "metadata": {},
     "output_type": "execute_result"
    }
   ],
   "source": [
    "stop = stopwords.words(\"english\")\n",
    "# We get all the words that aren't \"stopwords\"\n",
    "cleaned_words = [word for word in words if word not in stop]\n",
    "cleaned_words_counter = Counter(cleaned_words)\n",
    "cleaned_words_counter.most_common(20)"
   ]
  }
 ],
 "metadata": {
  "kernelspec": {
   "display_name": "Python 3",
   "language": "python",
   "name": "python3"
  },
  "language_info": {
   "codemirror_mode": {
    "name": "ipython",
    "version": 3
   },
   "file_extension": ".py",
   "mimetype": "text/x-python",
   "name": "python",
   "nbconvert_exporter": "python",
   "pygments_lexer": "ipython3",
   "version": "3.6.1"
  }
 },
 "nbformat": 4,
 "nbformat_minor": 2
}
